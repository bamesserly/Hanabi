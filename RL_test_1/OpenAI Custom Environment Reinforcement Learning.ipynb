{
 "cells": [
  {
   "cell_type": "markdown",
   "metadata": {},
   "source": [
    "# 0. Install Dependencies"
   ]
  },
  {
   "cell_type": "markdown",
   "metadata": {},
   "source": [
    "# 1. Test Random Environment with OpenAI Gym"
   ]
  },
  {
   "cell_type": "code",
   "execution_count": 1,
   "metadata": {},
   "outputs": [],
   "source": [
    "from gym import Env\n",
    "from gym.spaces import Discrete, Box\n",
    "import numpy as np\n",
    "import random"
   ]
  },
  {
   "cell_type": "code",
   "execution_count": 19,
   "metadata": {},
   "outputs": [],
   "source": [
    "class ShowerEnv(Env):\n",
    "    def __init__(self):\n",
    "        # Actions we can take, down, stay, up\n",
    "        self.action_space = Discrete(5)\n",
    "        # Temperature array\n",
    "        self.observation_space = Discrete(100)\n",
    "        # Set start temp\n",
    "        self.state = 38 + random.randint(-3,3)\n",
    "        # Set shower length\n",
    "        self.shower_length = 60\n",
    "        \n",
    "        self.answer = list(range(3))\n",
    "        random.shuffle(self.answer)\n",
    "        \n",
    "    def step(self, action):\n",
    "        # Apply action\n",
    "        # 0 -1 = -1 temperature\n",
    "        # 1 -1 = 0 \n",
    "        # 2 -1 = 1 temperature \n",
    "        self.state += action -2 \n",
    "        # Reduce shower length by 1 second\n",
    "        self.shower_length -= 1 \n",
    "        \n",
    "        # Calculate reward\n",
    "        if self.state >=37 and self.state <=39: \n",
    "            reward =1 \n",
    "        else: \n",
    "            reward = -1 \n",
    "        \n",
    "        # Check if shower is done\n",
    "        if self.shower_length <= 0: \n",
    "            done = True\n",
    "        else:\n",
    "            done = False\n",
    "        \n",
    "        # Apply temperature noise\n",
    "        #self.state += random.randint(-1,1)\n",
    "        # Set placeholder for info\n",
    "        info = {}\n",
    "        \n",
    "        # Return step information\n",
    "        return self.state, reward, done, info\n",
    "\n",
    "    def render(self):\n",
    "        # Implement viz\n",
    "        pass\n",
    "    \n",
    "    def reset(self):\n",
    "        # Reset shower temperature\n",
    "        self.state = 38 + random.randint(-3,3)\n",
    "        # Reset shower time\n",
    "        self.shower_length = 60\n",
    "        random.shuffle(self.answer)\n",
    "        return self.state"
   ]
  },
  {
   "cell_type": "code",
   "execution_count": 20,
   "metadata": {},
   "outputs": [],
   "source": [
    "env = ShowerEnv()"
   ]
  },
  {
   "cell_type": "code",
   "execution_count": 4,
   "metadata": {},
   "outputs": [
    {
     "data": {
      "text/plain": [
       "76"
      ]
     },
     "execution_count": 4,
     "metadata": {},
     "output_type": "execute_result"
    }
   ],
   "source": [
    "env.observation_space.sample()"
   ]
  },
  {
   "cell_type": "code",
   "execution_count": 5,
   "metadata": {},
   "outputs": [],
   "source": [
    "assert not env.observation_space.contains(1.5)"
   ]
  },
  {
   "cell_type": "code",
   "execution_count": 7,
   "metadata": {},
   "outputs": [
    {
     "name": "stdout",
     "output_type": "stream",
     "text": [
      "Episode:1 Score:10\n",
      "Episode:2 Score:-56\n",
      "Episode:3 Score:-34\n",
      "Episode:4 Score:-58\n",
      "Episode:5 Score:-60\n",
      "Episode:6 Score:-50\n",
      "Episode:7 Score:-6\n",
      "Episode:8 Score:-60\n",
      "Episode:9 Score:4\n",
      "Episode:10 Score:44\n"
     ]
    }
   ],
   "source": [
    "episodes = 10\n",
    "for episode in range(1, episodes+1):\n",
    "    state = env.reset()\n",
    "    done = False\n",
    "    score = 0 \n",
    "    \n",
    "    while not done:\n",
    "        #env.render()\n",
    "        action = env.action_space.sample()\n",
    "        n_state, reward, done, info = env.step(action)\n",
    "        score+=reward\n",
    "    print('Episode:{} Score:{}'.format(episode, score))"
   ]
  },
  {
   "cell_type": "markdown",
   "metadata": {},
   "source": [
    "# 2. Create a Deep Learning Model with Keras"
   ]
  },
  {
   "cell_type": "code",
   "execution_count": 21,
   "metadata": {},
   "outputs": [],
   "source": [
    "import numpy as np\n",
    "from tensorflow.keras.models import Sequential\n",
    "from tensorflow.keras.layers import Dense, Flatten\n",
    "from tensorflow.keras.optimizers import Adam"
   ]
  },
  {
   "cell_type": "code",
   "execution_count": 9,
   "metadata": {},
   "outputs": [],
   "source": [
    "#states = env.observation_space.shape\n",
    "states = (1,)\n",
    "actions = env.action_space.n"
   ]
  },
  {
   "cell_type": "code",
   "execution_count": 10,
   "metadata": {},
   "outputs": [
    {
     "data": {
      "text/plain": [
       "3"
      ]
     },
     "execution_count": 10,
     "metadata": {},
     "output_type": "execute_result"
    }
   ],
   "source": [
    "actions"
   ]
  },
  {
   "cell_type": "code",
   "execution_count": 11,
   "metadata": {},
   "outputs": [
    {
     "data": {
      "text/plain": [
       "(1,)"
      ]
     },
     "execution_count": 11,
     "metadata": {},
     "output_type": "execute_result"
    }
   ],
   "source": [
    "states"
   ]
  },
  {
   "cell_type": "code",
   "execution_count": 13,
   "metadata": {},
   "outputs": [],
   "source": [
    "def build_model(states, actions):\n",
    "    model = Sequential()    \n",
    "    model.add(Dense(24, activation='relu', input_shape=states))\n",
    "    model.add(Dense(24, activation='relu'))\n",
    "    model.add(Dense(actions, activation='linear'))\n",
    "    return model"
   ]
  },
  {
   "cell_type": "code",
   "execution_count": 62,
   "metadata": {},
   "outputs": [],
   "source": [
    "del model"
   ]
  },
  {
   "cell_type": "code",
   "execution_count": 22,
   "metadata": {},
   "outputs": [],
   "source": [
    "model = build_model(states, actions)"
   ]
  },
  {
   "cell_type": "code",
   "execution_count": 23,
   "metadata": {},
   "outputs": [
    {
     "name": "stdout",
     "output_type": "stream",
     "text": [
      "Model: \"sequential_2\"\n",
      "_________________________________________________________________\n",
      "Layer (type)                 Output Shape              Param #   \n",
      "=================================================================\n",
      "dense_6 (Dense)              (None, 24)                48        \n",
      "_________________________________________________________________\n",
      "dense_7 (Dense)              (None, 24)                600       \n",
      "_________________________________________________________________\n",
      "dense_8 (Dense)              (None, 3)                 75        \n",
      "=================================================================\n",
      "Total params: 723\n",
      "Trainable params: 723\n",
      "Non-trainable params: 0\n",
      "_________________________________________________________________\n"
     ]
    }
   ],
   "source": [
    "model.summary()"
   ]
  },
  {
   "cell_type": "markdown",
   "metadata": {},
   "source": [
    "# 3. Build Agent with Keras-RL"
   ]
  },
  {
   "cell_type": "code",
   "execution_count": 17,
   "metadata": {},
   "outputs": [],
   "source": [
    "from rl.agents import DQNAgent\n",
    "from rl.policy import BoltzmannQPolicy\n",
    "from rl.memory import SequentialMemory"
   ]
  },
  {
   "cell_type": "code",
   "execution_count": 18,
   "metadata": {},
   "outputs": [],
   "source": [
    "def build_agent(model, actions):\n",
    "    policy = BoltzmannQPolicy()\n",
    "    memory = SequentialMemory(limit=50000, window_length=1)\n",
    "    dqn = DQNAgent(model=model, memory=memory, policy=policy, \n",
    "                  nb_actions=actions, nb_steps_warmup=10, target_model_update=1e-2)\n",
    "    return dqn"
   ]
  },
  {
   "cell_type": "code",
   "execution_count": 24,
   "metadata": {},
   "outputs": [
    {
     "name": "stdout",
     "output_type": "stream",
     "text": [
      "Training for 50000 steps ...\n",
      "Interval 1 (0 steps performed)\n",
      "WARNING:tensorflow:From /Users/Ben/Home/Working/Hanabi/envs/lib/python3.7/site-packages/tensorflow/python/keras/engine/training_v1.py:2070: Model.state_updates (from tensorflow.python.keras.engine.training) is deprecated and will be removed in a future version.\n",
      "Instructions for updating:\n",
      "This property should not be used in TensorFlow 2.0, as updates are applied automatically.\n",
      "    1/10000 [..............................] - ETA: 11:37 - reward: 1.0000"
     ]
    },
    {
     "name": "stderr",
     "output_type": "stream",
     "text": [
      "/Users/Ben/Home/Working/Hanabi/envs/lib/python3.7/site-packages/rl/memory.py:37: UserWarning: Not enough entries to sample without replacement. Consider increasing your warm-up phase to avoid oversampling!\n",
      "  warnings.warn('Not enough entries to sample without replacement. Consider increasing your warm-up phase to avoid oversampling!')\n"
     ]
    },
    {
     "name": "stdout",
     "output_type": "stream",
     "text": [
      "10000/10000 [==============================] - 71s 7ms/step - reward: -0.4972\n",
      "166 episodes - episode_reward: -30.193 [-60.000, 60.000] - loss: 0.802 - mae: 7.679 - mean_q: -9.525\n",
      "\n",
      "Interval 2 (10000 steps performed)\n",
      "10000/10000 [==============================] - 72s 7ms/step - reward: -0.0406\n",
      "167 episodes - episode_reward: -2.072 [-60.000, 60.000] - loss: 1.381 - mae: 8.380 - mean_q: -5.159\n",
      "\n",
      "Interval 3 (20000 steps performed)\n",
      "10000/10000 [==============================] - 74s 7ms/step - reward: 0.1818\n",
      "167 episodes - episode_reward: 10.766 [-60.000, 60.000] - loss: 2.197 - mae: 8.740 - mean_q: 1.123\n",
      "\n",
      "Interval 4 (30000 steps performed)\n",
      "10000/10000 [==============================] - 79s 8ms/step - reward: 0.3792\n",
      "166 episodes - episode_reward: 22.602 [-60.000, 60.000] - loss: 6.342 - mae: 10.959 - mean_q: 12.510\n",
      "\n",
      "Interval 5 (40000 steps performed)\n",
      "10000/10000 [==============================] - 83s 8ms/step - reward: 0.3358\n",
      "done, took 378.766 seconds\n"
     ]
    },
    {
     "data": {
      "text/plain": [
       "<tensorflow.python.keras.callbacks.History at 0x14c7d6cd0>"
      ]
     },
     "execution_count": 24,
     "metadata": {},
     "output_type": "execute_result"
    }
   ],
   "source": [
    "dqn = build_agent(model, actions)\n",
    "dqn.compile(Adam(lr=1e-3), metrics=['mae'])\n",
    "dqn.fit(env, nb_steps=50000, visualize=False, verbose=1)"
   ]
  },
  {
   "cell_type": "code",
   "execution_count": 26,
   "metadata": {
    "scrolled": false
   },
   "outputs": [
    {
     "name": "stdout",
     "output_type": "stream",
     "text": [
      "Testing for 100 episodes ...\n",
      "Episode 1: reward: -60.000, steps: 60\n",
      "Episode 2: reward: 60.000, steps: 60\n",
      "Episode 3: reward: 60.000, steps: 60\n",
      "Episode 4: reward: -60.000, steps: 60\n",
      "Episode 5: reward: 60.000, steps: 60\n",
      "Episode 6: reward: -60.000, steps: 60\n",
      "Episode 7: reward: -60.000, steps: 60\n",
      "Episode 8: reward: -60.000, steps: 60\n",
      "Episode 9: reward: -60.000, steps: 60\n",
      "Episode 10: reward: -60.000, steps: 60\n",
      "Episode 11: reward: 60.000, steps: 60\n",
      "Episode 12: reward: 60.000, steps: 60\n",
      "Episode 13: reward: 60.000, steps: 60\n",
      "Episode 14: reward: -60.000, steps: 60\n",
      "Episode 15: reward: 60.000, steps: 60\n",
      "Episode 16: reward: 60.000, steps: 60\n",
      "Episode 17: reward: 60.000, steps: 60\n",
      "Episode 18: reward: -60.000, steps: 60\n",
      "Episode 19: reward: -60.000, steps: 60\n",
      "Episode 20: reward: 60.000, steps: 60\n",
      "Episode 21: reward: -60.000, steps: 60\n",
      "Episode 22: reward: -60.000, steps: 60\n",
      "Episode 23: reward: -60.000, steps: 60\n",
      "Episode 24: reward: 60.000, steps: 60\n",
      "Episode 25: reward: -60.000, steps: 60\n",
      "Episode 26: reward: -60.000, steps: 60\n",
      "Episode 27: reward: 60.000, steps: 60\n",
      "Episode 28: reward: 60.000, steps: 60\n",
      "Episode 29: reward: 60.000, steps: 60\n",
      "Episode 30: reward: -60.000, steps: 60\n",
      "Episode 31: reward: -60.000, steps: 60\n",
      "Episode 32: reward: 60.000, steps: 60\n",
      "Episode 33: reward: 60.000, steps: 60\n",
      "Episode 34: reward: 60.000, steps: 60\n",
      "Episode 35: reward: 60.000, steps: 60\n",
      "Episode 36: reward: 60.000, steps: 60\n",
      "Episode 37: reward: -60.000, steps: 60\n",
      "Episode 38: reward: -60.000, steps: 60\n",
      "Episode 39: reward: -60.000, steps: 60\n",
      "Episode 40: reward: 60.000, steps: 60\n",
      "Episode 41: reward: -60.000, steps: 60\n",
      "Episode 42: reward: 60.000, steps: 60\n",
      "Episode 43: reward: -60.000, steps: 60\n",
      "Episode 44: reward: -60.000, steps: 60\n",
      "Episode 45: reward: -60.000, steps: 60\n",
      "Episode 46: reward: 60.000, steps: 60\n",
      "Episode 47: reward: 60.000, steps: 60\n",
      "Episode 48: reward: -60.000, steps: 60\n",
      "Episode 49: reward: 60.000, steps: 60\n",
      "Episode 50: reward: 60.000, steps: 60\n",
      "Episode 51: reward: -60.000, steps: 60\n",
      "Episode 52: reward: 60.000, steps: 60\n",
      "Episode 53: reward: -60.000, steps: 60\n",
      "Episode 54: reward: 60.000, steps: 60\n",
      "Episode 55: reward: 60.000, steps: 60\n",
      "Episode 56: reward: -60.000, steps: 60\n",
      "Episode 57: reward: 60.000, steps: 60\n",
      "Episode 58: reward: -60.000, steps: 60\n",
      "Episode 59: reward: -60.000, steps: 60\n",
      "Episode 60: reward: 60.000, steps: 60\n",
      "Episode 61: reward: -60.000, steps: 60\n",
      "Episode 62: reward: -60.000, steps: 60\n",
      "Episode 63: reward: 60.000, steps: 60\n",
      "Episode 64: reward: -60.000, steps: 60\n",
      "Episode 65: reward: 60.000, steps: 60\n",
      "Episode 66: reward: -60.000, steps: 60\n",
      "Episode 67: reward: 60.000, steps: 60\n",
      "Episode 68: reward: -60.000, steps: 60\n",
      "Episode 69: reward: -60.000, steps: 60\n",
      "Episode 70: reward: -60.000, steps: 60\n",
      "Episode 71: reward: -60.000, steps: 60\n",
      "Episode 72: reward: -60.000, steps: 60\n",
      "Episode 73: reward: 60.000, steps: 60\n",
      "Episode 74: reward: -60.000, steps: 60\n",
      "Episode 75: reward: 60.000, steps: 60\n",
      "Episode 76: reward: 60.000, steps: 60\n",
      "Episode 77: reward: -60.000, steps: 60\n",
      "Episode 78: reward: -60.000, steps: 60\n",
      "Episode 79: reward: 60.000, steps: 60\n",
      "Episode 80: reward: -60.000, steps: 60\n",
      "Episode 81: reward: 60.000, steps: 60\n",
      "Episode 82: reward: 60.000, steps: 60\n",
      "Episode 83: reward: -60.000, steps: 60\n",
      "Episode 84: reward: 60.000, steps: 60\n",
      "Episode 85: reward: -60.000, steps: 60\n",
      "Episode 86: reward: 60.000, steps: 60\n",
      "Episode 87: reward: -60.000, steps: 60\n",
      "Episode 88: reward: 60.000, steps: 60\n",
      "Episode 89: reward: 60.000, steps: 60\n",
      "Episode 90: reward: -60.000, steps: 60\n",
      "Episode 91: reward: -60.000, steps: 60\n",
      "Episode 92: reward: 60.000, steps: 60\n",
      "Episode 93: reward: -60.000, steps: 60\n",
      "Episode 94: reward: -60.000, steps: 60\n",
      "Episode 95: reward: -60.000, steps: 60\n",
      "Episode 96: reward: 60.000, steps: 60\n",
      "Episode 97: reward: 60.000, steps: 60\n",
      "Episode 98: reward: -60.000, steps: 60\n",
      "Episode 99: reward: -60.000, steps: 60\n",
      "Episode 100: reward: 60.000, steps: 60\n",
      "-3.6\n"
     ]
    }
   ],
   "source": [
    "scores = dqn.test(env, nb_episodes=100, visualize=False)\n",
    "print(np.mean(scores.history['episode_reward']))"
   ]
  },
  {
   "cell_type": "code",
   "execution_count": 67,
   "metadata": {},
   "outputs": [],
   "source": [
    "dqn.save_weights('dqn_weights_discrete.h5f', overwrite=True)"
   ]
  },
  {
   "cell_type": "code",
   "execution_count": 68,
   "metadata": {},
   "outputs": [],
   "source": [
    "del model\n",
    "del dqn\n",
    "del env"
   ]
  },
  {
   "cell_type": "code",
   "execution_count": 69,
   "metadata": {},
   "outputs": [],
   "source": [
    "env = ShowerEnv()\n",
    "actions = env.action_space.n\n",
    "states = (1,)\n",
    "model = build_model(states, actions)\n",
    "dqn = build_agent(model, actions)\n",
    "dqn.compile(Adam(lr=1e-3), metrics=['mae'])"
   ]
  },
  {
   "cell_type": "code",
   "execution_count": 70,
   "metadata": {},
   "outputs": [],
   "source": [
    "dqn.load_weights('dqn_weights_discrete.h5f')"
   ]
  },
  {
   "cell_type": "code",
   "execution_count": 71,
   "metadata": {},
   "outputs": [
    {
     "name": "stdout",
     "output_type": "stream",
     "text": [
      "Testing for 100 episodes ...\n",
      "Episode 1: reward: 58.000, steps: 60\n",
      "Episode 2: reward: 58.000, steps: 60\n",
      "Episode 3: reward: 58.000, steps: 60\n",
      "Episode 4: reward: 60.000, steps: 60\n",
      "Episode 5: reward: 60.000, steps: 60\n",
      "Episode 6: reward: 58.000, steps: 60\n",
      "Episode 7: reward: 58.000, steps: 60\n",
      "Episode 8: reward: 60.000, steps: 60\n",
      "Episode 9: reward: 60.000, steps: 60\n",
      "Episode 10: reward: 58.000, steps: 60\n",
      "Episode 11: reward: 58.000, steps: 60\n",
      "Episode 12: reward: 60.000, steps: 60\n",
      "Episode 13: reward: 60.000, steps: 60\n",
      "Episode 14: reward: 60.000, steps: 60\n",
      "Episode 15: reward: 58.000, steps: 60\n",
      "Episode 16: reward: 60.000, steps: 60\n",
      "Episode 17: reward: 60.000, steps: 60\n",
      "Episode 18: reward: 60.000, steps: 60\n",
      "Episode 19: reward: 60.000, steps: 60\n",
      "Episode 20: reward: 60.000, steps: 60\n",
      "Episode 21: reward: 60.000, steps: 60\n",
      "Episode 22: reward: 60.000, steps: 60\n",
      "Episode 23: reward: 60.000, steps: 60\n",
      "Episode 24: reward: 60.000, steps: 60\n",
      "Episode 25: reward: 60.000, steps: 60\n",
      "Episode 26: reward: 60.000, steps: 60\n",
      "Episode 27: reward: 60.000, steps: 60\n",
      "Episode 28: reward: 60.000, steps: 60\n",
      "Episode 29: reward: 60.000, steps: 60\n",
      "Episode 30: reward: 58.000, steps: 60\n",
      "Episode 31: reward: 60.000, steps: 60\n",
      "Episode 32: reward: 58.000, steps: 60\n",
      "Episode 33: reward: 60.000, steps: 60\n",
      "Episode 34: reward: 60.000, steps: 60\n",
      "Episode 35: reward: 58.000, steps: 60\n",
      "Episode 36: reward: 60.000, steps: 60\n",
      "Episode 37: reward: 60.000, steps: 60\n",
      "Episode 38: reward: 60.000, steps: 60\n",
      "Episode 39: reward: 60.000, steps: 60\n",
      "Episode 40: reward: 60.000, steps: 60\n",
      "Episode 41: reward: 60.000, steps: 60\n",
      "Episode 42: reward: 60.000, steps: 60\n",
      "Episode 43: reward: 60.000, steps: 60\n",
      "Episode 44: reward: 60.000, steps: 60\n",
      "Episode 45: reward: 58.000, steps: 60\n",
      "Episode 46: reward: 58.000, steps: 60\n",
      "Episode 47: reward: 60.000, steps: 60\n",
      "Episode 48: reward: 60.000, steps: 60\n",
      "Episode 49: reward: 60.000, steps: 60\n",
      "Episode 50: reward: 60.000, steps: 60\n",
      "Episode 51: reward: 60.000, steps: 60\n",
      "Episode 52: reward: 60.000, steps: 60\n",
      "Episode 53: reward: 60.000, steps: 60\n",
      "Episode 54: reward: 60.000, steps: 60\n",
      "Episode 55: reward: 60.000, steps: 60\n",
      "Episode 56: reward: 60.000, steps: 60\n",
      "Episode 57: reward: 60.000, steps: 60\n",
      "Episode 58: reward: 60.000, steps: 60\n",
      "Episode 59: reward: 58.000, steps: 60\n",
      "Episode 60: reward: 58.000, steps: 60\n",
      "Episode 61: reward: 60.000, steps: 60\n",
      "Episode 62: reward: 60.000, steps: 60\n",
      "Episode 63: reward: 60.000, steps: 60\n",
      "Episode 64: reward: 58.000, steps: 60\n",
      "Episode 65: reward: 60.000, steps: 60\n",
      "Episode 66: reward: 58.000, steps: 60\n",
      "Episode 67: reward: 60.000, steps: 60\n",
      "Episode 68: reward: 58.000, steps: 60\n",
      "Episode 69: reward: 58.000, steps: 60\n",
      "Episode 70: reward: 60.000, steps: 60\n",
      "Episode 71: reward: 60.000, steps: 60\n",
      "Episode 72: reward: 60.000, steps: 60\n",
      "Episode 73: reward: 60.000, steps: 60\n",
      "Episode 74: reward: 58.000, steps: 60\n",
      "Episode 75: reward: 58.000, steps: 60\n",
      "Episode 76: reward: 58.000, steps: 60\n",
      "Episode 77: reward: 60.000, steps: 60\n",
      "Episode 78: reward: 60.000, steps: 60\n",
      "Episode 79: reward: 60.000, steps: 60\n",
      "Episode 80: reward: 58.000, steps: 60\n",
      "Episode 81: reward: 58.000, steps: 60\n",
      "Episode 82: reward: 60.000, steps: 60\n",
      "Episode 83: reward: 58.000, steps: 60\n",
      "Episode 84: reward: 60.000, steps: 60\n",
      "Episode 85: reward: 58.000, steps: 60\n",
      "Episode 86: reward: 60.000, steps: 60\n",
      "Episode 87: reward: 60.000, steps: 60\n",
      "Episode 88: reward: 60.000, steps: 60\n",
      "Episode 89: reward: 60.000, steps: 60\n",
      "Episode 90: reward: 60.000, steps: 60\n",
      "Episode 91: reward: 58.000, steps: 60\n",
      "Episode 92: reward: 60.000, steps: 60\n",
      "Episode 93: reward: 60.000, steps: 60\n",
      "Episode 94: reward: 60.000, steps: 60\n",
      "Episode 95: reward: 60.000, steps: 60\n",
      "Episode 96: reward: 60.000, steps: 60\n",
      "Episode 97: reward: 58.000, steps: 60\n",
      "Episode 98: reward: 58.000, steps: 60\n",
      "Episode 99: reward: 60.000, steps: 60\n",
      "Episode 100: reward: 60.000, steps: 60\n",
      "59.42\n"
     ]
    }
   ],
   "source": [
    "scores = dqn.test(env, nb_episodes=100, visualize=False)\n",
    "print(np.mean(scores.history['episode_reward']))"
   ]
  }
 ],
 "metadata": {
  "kernelspec": {
   "display_name": "Python 3 (ipykernel)",
   "language": "python",
   "name": "python3"
  },
  "language_info": {
   "codemirror_mode": {
    "name": "ipython",
    "version": 3
   },
   "file_extension": ".py",
   "mimetype": "text/x-python",
   "name": "python",
   "nbconvert_exporter": "python",
   "pygments_lexer": "ipython3",
   "version": "3.7.11"
  }
 },
 "nbformat": 4,
 "nbformat_minor": 2
}
